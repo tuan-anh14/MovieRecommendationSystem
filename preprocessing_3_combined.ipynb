{
 "cells": [
  {
   "cell_type": "raw",
   "metadata": {
    "vscode": {
     "languageId": "raw"
    }
   },
   "source": [
    "# Preprocessing 3: Xử lý dữ liệu phim 2018\n",
    "## Kết hợp phiên bản cũ và mới với các kỹ thuật tiền xử lý nâng cao\n",
    "\n",
    "### Mục tiêu:\n",
    "- Scraping dữ liệu phim 2018 từ Wikipedia\n",
    "- Tích hợp thông tin từ TMDB API\n",
    "- Xử lý và làm sạch dữ liệu\n",
    "- Kết hợp với dữ liệu cũ\n"
   ]
  },
  {
   "cell_type": "code",
   "execution_count": null,
   "metadata": {},
   "outputs": [],
   "source": [
    "# Import các thư viện cần thiết\n",
    "import pandas as pd\n",
    "import numpy as np\n",
    "from tmdbv3api import TMDb\n",
    "import json\n",
    "import requests\n",
    "import warnings\n",
    "import logging\n",
    "from typing import List, Dict, Optional\n",
    "\n",
    "# Cấu hình logging\n",
    "logging.basicConfig(\n",
    "    level=logging.INFO,\n",
    "    format='%(asctime)s - %(levelname)s - %(message)s'\n",
    ")\n",
    "\n",
    "warnings.filterwarnings('ignore')\n"
   ]
  },
  {
   "cell_type": "raw",
   "metadata": {
    "vscode": {
     "languageId": "raw"
    }
   },
   "source": [
    "## 1. Scraping dữ liệu phim 2018 từ Wikipedia\n"
   ]
  },
  {
   "cell_type": "code",
   "execution_count": null,
   "metadata": {},
   "outputs": [],
   "source": [
    "# URL của trang Wikipedia chứa danh sách phim 2018\n",
    "wiki_url = \"https://en.wikipedia.org/wiki/List_of_American_films_of_2018\"\n",
    "\n",
    "# Đọc các bảng từ Wikipedia\n",
    "logging.info(\"Đang đọc dữ liệu từ Wikipedia...\")\n",
    "try:\n",
    "    df1 = pd.read_html(wiki_url, header=0)[2]  # Q1\n",
    "    df2 = pd.read_html(wiki_url, header=0)[3]  # Q2\n",
    "    df3 = pd.read_html(wiki_url, header=0)[4]  # Q3\n",
    "    df4 = pd.read_html(wiki_url, header=0)[5]  # Q4\n",
    "    \n",
    "    # Kết hợp dữ liệu từ 4 quý\n",
    "    df = pd.concat([df1, df2, df3, df4], ignore_index=True)\n",
    "    \n",
    "    logging.info(f\"Đã tải thành công {len(df)} phim từ Wikipedia\")\n",
    "    logging.info(\"\\nMẫu dữ liệu:\")\n",
    "    display(df.head())\n",
    "    \n",
    "except Exception as e:\n",
    "    logging.error(f\"Lỗi khi đọc dữ liệu từ Wikipedia: {str(e)}\")\n",
    "    raise\n"
   ]
  },
  {
   "cell_type": "raw",
   "metadata": {
    "vscode": {
     "languageId": "raw"
    }
   },
   "source": [
    "## 2. TMDB API Integration\n"
   ]
  },
  {
   "cell_type": "code",
   "execution_count": null,
   "metadata": {},
   "outputs": [],
   "source": [
    "# Khởi tạo TMDB API\n",
    "tmdb = TMDb()\n",
    "tmdb.api_key = ''  # Thêm API key của bạn vào đây\n",
    "\n",
    "# Khởi tạo Movie API\n",
    "from tmdbv3api import Movie\n",
    "tmdb_movie = Movie()\n",
    "\n",
    "def get_genre(movie_title: str) -> Optional[str]:\n",
    "    \"\"\"\n",
    "    Lấy thông tin thể loại phim từ TMDB API\n",
    "    \n",
    "    Args:\n",
    "        movie_title: Tên phim cần tìm\n",
    "        \n",
    "    Returns:\n",
    "        String chứa các thể loại phim, hoặc None nếu không tìm thấy\n",
    "    \"\"\"\n",
    "    try:\n",
    "        result = tmdb_movie.search(movie_title)\n",
    "        if result:\n",
    "            movie_id = result[0].id\n",
    "            response = requests.get(\n",
    "                f'https://api.themoviedb.org/3/movie/{movie_id}',\n",
    "                params={'api_key': tmdb.api_key}\n",
    "            )\n",
    "            data_json = response.json()\n",
    "            \n",
    "            if data_json.get('genres'):\n",
    "                genres = [genre['name'] for genre in data_json['genres']]\n",
    "                return \" \".join(genres)\n",
    "                \n",
    "    except Exception as e:\n",
    "        logging.error(f\"Lỗi khi lấy thông tin thể loại cho {movie_title}: {str(e)}\")\n",
    "    \n",
    "    return None\n",
    "\n",
    "# Áp dụng cho toàn bộ dataset\n",
    "logging.info(\"Đang lấy thông tin thể loại từ TMDB API...\")\n",
    "df['genres'] = df['Title'].map(lambda x: get_genre(str(x)))\n",
    "\n",
    "# Kiểm tra kết quả\n",
    "logging.info(\"\\nMẫu dữ liệu sau khi thêm thể loại:\")\n",
    "display(df.head())\n"
   ]
  },
  {
   "cell_type": "raw",
   "metadata": {
    "vscode": {
     "languageId": "raw"
    }
   },
   "source": [
    "## 3. Xử lý và làm sạch dữ liệu\n"
   ]
  },
  {
   "cell_type": "code",
   "execution_count": null,
   "metadata": {},
   "outputs": [],
   "source": [
    "# Lọc và chuẩn bị dữ liệu\n",
    "df_2018 = df[['Title', 'Cast and crew', 'genres']]\n",
    "\n",
    "# Hàm xử lý director\n",
    "def get_director(x: str) -> str:\n",
    "    \"\"\"\n",
    "    Trích xuất tên đạo diễn từ chuỗi Cast and crew\n",
    "    \"\"\"\n",
    "    try:\n",
    "        if \" (director)\" in x:\n",
    "            return x.split(\" (director)\")[0]\n",
    "        elif \" (directors)\" in x:\n",
    "            return x.split(\" (directors)\")[0]\n",
    "        else:\n",
    "            return x.split(\" (director/screenplay)\")[0]\n",
    "    except Exception as e:\n",
    "        logging.error(f\"Lỗi khi xử lý director: {str(e)}\")\n",
    "        return \"unknown\"\n",
    "\n",
    "# Hàm xử lý actors\n",
    "def get_actor1(x: str) -> str:\n",
    "    \"\"\"Lấy actor đầu tiên\"\"\"\n",
    "    try:\n",
    "        return ((x.split(\"screenplay); \")[-1]).split(\", \")[0])\n",
    "    except Exception as e:\n",
    "        logging.error(f\"Lỗi khi xử lý actor 1: {str(e)}\")\n",
    "        return \"unknown\"\n",
    "\n",
    "def get_actor2(x: str) -> str:\n",
    "    \"\"\"Lấy actor thứ hai\"\"\"\n",
    "    try:\n",
    "        actors = (x.split(\"screenplay); \")[-1]).split(\", \")\n",
    "        return actors[1] if len(actors) > 1 else np.NaN\n",
    "    except Exception as e:\n",
    "        logging.error(f\"Lỗi khi xử lý actor 2: {str(e)}\")\n",
    "        return np.NaN\n",
    "\n",
    "def get_actor3(x: str) -> str:\n",
    "    \"\"\"Lấy actor thứ ba\"\"\"\n",
    "    try:\n",
    "        actors = (x.split(\"screenplay); \")[-1]).split(\", \")\n",
    "        return actors[2] if len(actors) > 2 else np.NaN\n",
    "    except Exception as e:\n",
    "        logging.error(f\"Lỗi khi xử lý actor 3: {str(e)}\")\n",
    "        return np.NaN\n",
    "\n",
    "# Áp dụng các hàm xử lý\n",
    "logging.info(\"Đang xử lý thông tin cast và crew...\")\n",
    "df_2018['director_name'] = df_2018['Cast and crew'].map(get_director)\n",
    "df_2018['actor_1_name'] = df_2018['Cast and crew'].map(get_actor1)\n",
    "df_2018['actor_2_name'] = df_2018['Cast and crew'].map(get_actor2)\n",
    "df_2018['actor_3_name'] = df_2018['Cast and crew'].map(get_actor3)\n",
    "\n",
    "# Kiểm tra kết quả\n",
    "logging.info(\"\\nMẫu dữ liệu sau khi xử lý:\")\n",
    "display(df_2018.head())\n"
   ]
  },
  {
   "cell_type": "raw",
   "metadata": {
    "vscode": {
     "languageId": "raw"
    }
   },
   "source": [
    "## 4. Chuẩn hóa và kết hợp dữ liệu\n"
   ]
  },
  {
   "cell_type": "code",
   "execution_count": null,
   "metadata": {},
   "outputs": [],
   "source": [
    "# Tạo DataFrame cuối cùng với các cột cần thiết\n",
    "new_df18 = df_2018.loc[:, ['director_name', 'actor_1_name', 'actor_2_name', 'actor_3_name', 'genres', 'Title']]\n",
    "\n",
    "# Xử lý missing values\n",
    "logging.info(\"\\n=== MISSING VALUES CHECK ===\")\n",
    "display(new_df18.isna().sum())\n",
    "\n",
    "# Thay thế giá trị NaN cho actors\n",
    "new_df18['actor_2_name'] = new_df18['actor_2_name'].fillna('unknown')\n",
    "new_df18['actor_3_name'] = new_df18['actor_3_name'].fillna('unknown')\n",
    "\n",
    "# Đổi tên cột và chuẩn hóa\n",
    "new_df18 = new_df18.rename(columns={'Title': 'movie_title'})\n",
    "new_df18['movie_title'] = new_df18['movie_title'].str.lower()\n",
    "\n",
    "# Tạo cột combined features\n",
    "new_df18['comb'] = new_df18['actor_1_name'] + ' ' + new_df18['actor_2_name'] + ' ' + new_df18['actor_3_name'] + ' ' + new_df18['director_name'] + ' ' + new_df18['genres']\n",
    "\n",
    "# Kiểm tra dữ liệu cuối cùng\n",
    "logging.info(\"\\n=== FINAL DATA CHECK ===\")\n",
    "logging.info(f\"Shape: {new_df18.shape}\")\n",
    "display(new_df18.head())\n",
    "\n",
    "# Test integration với một phim\n",
    "print(f\"Testing data integration for: {test_movie}\")\n",
    "integrated_data = integrate_data(test_movie)\n",
    "print(\"\\nIntegrated data:\")\n",
    "for key, value in integrated_data.items():\n",
    "    if isinstance(value, str):\n",
    "        print(f\"{key}: {value[:100]}...\")\n",
    "    else:\n",
    "        print(f\"{key}: {value}\")\n",
    "\n",
    "# Tích hợp dữ liệu cho toàn bộ dataset\n",
    "print(\"\\nProcessing all movies...\")\n",
    "all_data = []\n",
    "for title in tqdm(data_2017['movie_title']):\n",
    "    movie_data = integrate_data(title)\n",
    "    all_data.append(movie_data)\n",
    "\n",
    "# Convert to DataFrame\n",
    "integrated_df = pd.DataFrame(all_data)\n",
    "print(\"\\nIntegrated DataFrame shape:\", integrated_df.shape)\n",
    "display(integrated_df.head())\n"
   ]
  },
  {
   "cell_type": "code",
   "execution_count": null,
   "metadata": {},
   "outputs": [],
   "source": [
    "# Kết hợp với dữ liệu cũ\n",
    "try:\n",
    "    # Load dữ liệu cũ\n",
    "    old = pd.read_csv('../datasets/data.csv')\n",
    "    logging.info(\"\\n=== LOADING OLD DATA ===\")\n",
    "    logging.info(f\"Old data shape: {old.shape}\")\n",
    "    \n",
    "    # Kiểm tra và tạo cột combined features cho dữ liệu cũ nếu chưa có\n",
    "    if 'comb' not in old.columns:\n",
    "        old['comb'] = old['actor_1_name'] + ' ' + old['actor_2_name'] + ' ' + old['actor_3_name'] + ' ' + old['director_name'] + ' ' + old['genres']\n",
    "    \n",
    "    # Kết hợp dữ liệu\n",
    "    final_data = pd.concat([old, new_df18], ignore_index=True)\n",
    "    logging.info(f\"\\nCombined data shape: {final_data.shape}\")\n",
    "    \n",
    "    # Xuất ra file\n",
    "    output_file = '../datasets/new_data.csv'\n",
    "    final_data.to_csv(output_file, index=False)\n",
    "    logging.info(f\"\\nĐã xuất dữ liệu kết hợp ra file: {output_file}\")\n",
    "    \n",
    "except FileNotFoundError:\n",
    "    logging.warning(\"\\nKhông tìm thấy file data.csv cũ\")\n",
    "    output_file = '../datasets/new_data.csv'\n",
    "    new_df18.to_csv(output_file, index=False)\n",
    "    logging.info(f\"\\nĐã xuất dữ liệu mới ra file: {output_file}\")\n",
    "except Exception as e:\n",
    "    logging.error(f\"\\nLỗi khi xử lý dữ liệu cũ: {str(e)}\")\n",
    "    raise\n"
   ]
  },
  {
   "cell_type": "raw",
   "metadata": {
    "vscode": {
     "languageId": "raw"
    }
   },
   "source": [
    "## 5. Advanced Text Processing\n"
   ]
  },
  {
   "cell_type": "code",
   "execution_count": null,
   "metadata": {},
   "outputs": [],
   "source": [
    "def clean_text(text):\n",
    "    \"\"\"\n",
    "    Clean và normalize text\n",
    "    \"\"\"\n",
    "    if pd.isna(text):\n",
    "        return ''\n",
    "    \n",
    "    # Convert to string\n",
    "    text = str(text)\n",
    "    \n",
    "    # Remove special characters\n",
    "    text = re.sub(r'[^\\w\\s]', ' ', text)\n",
    "    \n",
    "    # Remove extra spaces\n",
    "    text = re.sub(r'\\s+', ' ', text)\n",
    "    \n",
    "    # Convert to lowercase\n",
    "    text = text.lower().strip()\n",
    "    \n",
    "    return text\n",
    "\n",
    "# Clean text columns\n",
    "text_columns = ['movie_title', 'plot', 'overview']\n",
    "for col in text_columns:\n",
    "    if col in integrated_df.columns:\n",
    "        integrated_df[col] = integrated_df[col].apply(clean_text)\n",
    "\n",
    "print(\"Sample cleaned text data:\")\n",
    "for col in text_columns:\n",
    "    if col in integrated_df.columns:\n",
    "        print(f\"\\n{col}:\")\n",
    "        print(integrated_df[col].iloc[0])\n"
   ]
  },
  {
   "cell_type": "raw",
   "metadata": {
    "vscode": {
     "languageId": "raw"
    }
   },
   "source": [
    "## 6. Data Validation\n"
   ]
  },
  {
   "cell_type": "code",
   "execution_count": null,
   "metadata": {},
   "outputs": [],
   "source": [
    "def validate_integrated_data(df):\n",
    "    \"\"\"\n",
    "    Validate dữ liệu sau khi tích hợp\n",
    "    \"\"\"\n",
    "    print(\"=== INTEGRATED DATA VALIDATION ===\")\n",
    "    \n",
    "    # Check missing values\n",
    "    missing = df.isnull().sum()\n",
    "    print(\"\\nMissing values after integration:\")\n",
    "    print(missing[missing > 0] if missing.any() else \"No missing values\")\n",
    "    \n",
    "    # Check data types\n",
    "    print(\"\\nData types:\")\n",
    "    print(df.dtypes)\n",
    "    \n",
    "    # Check unique values\n",
    "    print(\"\\nUnique values per column:\")\n",
    "    for col in df.columns:\n",
    "        print(f\"{col}: {df[col].nunique()} unique values\")\n",
    "    \n",
    "    # Check text data quality\n",
    "    print(\"\\nText data quality check:\")\n",
    "    for col in ['movie_title', 'plot', 'overview']:\n",
    "        if col in df.columns:\n",
    "            empty_count = df[df[col].str.len() == 0].shape[0] if df[col].dtype == object else 0\n",
    "            print(f\"{col}:\")\n",
    "            print(f\"  - Empty strings: {empty_count}\")\n",
    "            print(f\"  - Sample values: {df[col].sample(3).tolist()}\")\n",
    "    \n",
    "    return True\n",
    "\n",
    "validate_integrated_data(integrated_df)\n"
   ]
  },
  {
   "cell_type": "raw",
   "metadata": {
    "vscode": {
     "languageId": "raw"
    }
   },
   "source": [
    "## 7. Lưu dữ liệu đã xử lý\n"
   ]
  },
  {
   "cell_type": "code",
   "execution_count": null,
   "metadata": {},
   "outputs": [],
   "source": [
    "# Lưu dữ liệu đã xử lý\n",
    "integrated_df.to_csv('data_2017_integrated.csv', index=False)\n",
    "print(\"Data saved successfully!\")\n"
   ]
  }
 ],
 "metadata": {
  "language_info": {
   "name": "python"
  }
 },
 "nbformat": 4,
 "nbformat_minor": 2
}
